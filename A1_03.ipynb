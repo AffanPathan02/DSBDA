{
 "cells": [
  {
   "cell_type": "code",
   "execution_count": 30,
   "id": "6358296c",
   "metadata": {},
   "outputs": [],
   "source": [
    "import numpy as np\n",
    "import pandas as pd\n",
    "import math"
   ]
  },
  {
   "cell_type": "code",
   "execution_count": 11,
   "id": "d285ea29",
   "metadata": {},
   "outputs": [],
   "source": [
    "df=pd.read_csv(\"raw_data.csv\")"
   ]
  },
  {
   "cell_type": "code",
   "execution_count": 12,
   "id": "a53bd2dd",
   "metadata": {},
   "outputs": [
    {
     "data": {
      "text/html": [
       "<div>\n",
       "<style scoped>\n",
       "    .dataframe tbody tr th:only-of-type {\n",
       "        vertical-align: middle;\n",
       "    }\n",
       "\n",
       "    .dataframe tbody tr th {\n",
       "        vertical-align: top;\n",
       "    }\n",
       "\n",
       "    .dataframe thead th {\n",
       "        text-align: right;\n",
       "    }\n",
       "</style>\n",
       "<table border=\"1\" class=\"dataframe\">\n",
       "  <thead>\n",
       "    <tr style=\"text-align: right;\">\n",
       "      <th></th>\n",
       "      <th>math score</th>\n",
       "      <th>reading score</th>\n",
       "      <th>writing score</th>\n",
       "      <th>Placement Score</th>\n",
       "      <th>placement offer count</th>\n",
       "    </tr>\n",
       "  </thead>\n",
       "  <tbody>\n",
       "    <tr>\n",
       "      <th>0</th>\n",
       "      <td>72.000000</td>\n",
       "      <td>72.00</td>\n",
       "      <td>74.0</td>\n",
       "      <td>78.000</td>\n",
       "      <td>1</td>\n",
       "    </tr>\n",
       "    <tr>\n",
       "      <th>1</th>\n",
       "      <td>69.000000</td>\n",
       "      <td>90.00</td>\n",
       "      <td>88.0</td>\n",
       "      <td>62.125</td>\n",
       "      <td>2</td>\n",
       "    </tr>\n",
       "    <tr>\n",
       "      <th>2</th>\n",
       "      <td>90.000000</td>\n",
       "      <td>95.00</td>\n",
       "      <td>93.0</td>\n",
       "      <td>74.000</td>\n",
       "      <td>2</td>\n",
       "    </tr>\n",
       "    <tr>\n",
       "      <th>3</th>\n",
       "      <td>47.000000</td>\n",
       "      <td>57.00</td>\n",
       "      <td>77.0</td>\n",
       "      <td>78.000</td>\n",
       "      <td>1</td>\n",
       "    </tr>\n",
       "    <tr>\n",
       "      <th>4</th>\n",
       "      <td>52.285714</td>\n",
       "      <td>78.00</td>\n",
       "      <td>75.0</td>\n",
       "      <td>81.000</td>\n",
       "      <td>3</td>\n",
       "    </tr>\n",
       "    <tr>\n",
       "      <th>5</th>\n",
       "      <td>71.000000</td>\n",
       "      <td>72.25</td>\n",
       "      <td>78.0</td>\n",
       "      <td>70.000</td>\n",
       "      <td>4</td>\n",
       "    </tr>\n",
       "    <tr>\n",
       "      <th>6</th>\n",
       "      <td>12.000000</td>\n",
       "      <td>44.00</td>\n",
       "      <td>52.0</td>\n",
       "      <td>12.000</td>\n",
       "      <td>2</td>\n",
       "    </tr>\n",
       "    <tr>\n",
       "      <th>7</th>\n",
       "      <td>52.285714</td>\n",
       "      <td>65.00</td>\n",
       "      <td>67.0</td>\n",
       "      <td>49.000</td>\n",
       "      <td>1</td>\n",
       "    </tr>\n",
       "    <tr>\n",
       "      <th>8</th>\n",
       "      <td>5.000000</td>\n",
       "      <td>77.00</td>\n",
       "      <td>89.0</td>\n",
       "      <td>55.000</td>\n",
       "      <td>0</td>\n",
       "    </tr>\n",
       "  </tbody>\n",
       "</table>\n",
       "</div>"
      ],
      "text/plain": [
       "   math score  reading score  writing score  Placement Score  \\\n",
       "0   72.000000          72.00           74.0           78.000   \n",
       "1   69.000000          90.00           88.0           62.125   \n",
       "2   90.000000          95.00           93.0           74.000   \n",
       "3   47.000000          57.00           77.0           78.000   \n",
       "4   52.285714          78.00           75.0           81.000   \n",
       "5   71.000000          72.25           78.0           70.000   \n",
       "6   12.000000          44.00           52.0           12.000   \n",
       "7   52.285714          65.00           67.0           49.000   \n",
       "8    5.000000          77.00           89.0           55.000   \n",
       "\n",
       "   placement offer count  \n",
       "0                      1  \n",
       "1                      2  \n",
       "2                      2  \n",
       "3                      1  \n",
       "4                      3  \n",
       "5                      4  \n",
       "6                      2  \n",
       "7                      1  \n",
       "8                      0  "
      ]
     },
     "execution_count": 12,
     "metadata": {},
     "output_type": "execute_result"
    }
   ],
   "source": [
    "df"
   ]
  },
  {
   "cell_type": "code",
   "execution_count": 17,
   "id": "fbfc91fb",
   "metadata": {},
   "outputs": [],
   "source": [
    "sum_values=df['math score'].sum()"
   ]
  },
  {
   "cell_type": "code",
   "execution_count": 20,
   "id": "da790927",
   "metadata": {},
   "outputs": [],
   "source": [
    "count_values=df['math score'].count()"
   ]
  },
  {
   "cell_type": "code",
   "execution_count": 36,
   "id": "f8acaf61",
   "metadata": {},
   "outputs": [],
   "source": [
    "mean=sum_values/count_values"
   ]
  },
  {
   "cell_type": "code",
   "execution_count": 37,
   "id": "192dc5c2",
   "metadata": {},
   "outputs": [
    {
     "data": {
      "text/plain": [
       "52.28571422222222"
      ]
     },
     "execution_count": 37,
     "metadata": {},
     "output_type": "execute_result"
    }
   ],
   "source": [
    "mean"
   ]
  },
  {
   "cell_type": "code",
   "execution_count": 25,
   "id": "5bb46fb3",
   "metadata": {},
   "outputs": [
    {
     "data": {
      "text/plain": [
       "array([ 5.      , 12.      , 47.      , 52.285714, 52.285714, 69.      ,\n",
       "       71.      , 72.      , 90.      ])"
      ]
     },
     "execution_count": 25,
     "metadata": {},
     "output_type": "execute_result"
    }
   ],
   "source": [
    "np.sort(df['math score'])"
   ]
  },
  {
   "cell_type": "code",
   "execution_count": 31,
   "id": "0bcf2b77",
   "metadata": {},
   "outputs": [],
   "source": [
    "middle_index=math.floor(count_values/2)"
   ]
  },
  {
   "cell_type": "code",
   "execution_count": 34,
   "id": "e09e88ae",
   "metadata": {},
   "outputs": [],
   "source": [
    "median=np.sort(df['math score'])[middle_index]"
   ]
  },
  {
   "cell_type": "code",
   "execution_count": 38,
   "id": "f6cd77cc",
   "metadata": {},
   "outputs": [
    {
     "data": {
      "text/plain": [
       "52.285714"
      ]
     },
     "execution_count": 38,
     "metadata": {},
     "output_type": "execute_result"
    }
   ],
   "source": [
    "median"
   ]
  },
  {
   "cell_type": "code",
   "execution_count": 39,
   "id": "a87ee94e",
   "metadata": {},
   "outputs": [],
   "source": [
    "max_value=np.sort(df['math score'])[-1]"
   ]
  },
  {
   "cell_type": "code",
   "execution_count": 40,
   "id": "73800d32",
   "metadata": {},
   "outputs": [
    {
     "data": {
      "text/plain": [
       "90.0"
      ]
     },
     "execution_count": 40,
     "metadata": {},
     "output_type": "execute_result"
    }
   ],
   "source": [
    "max_value"
   ]
  },
  {
   "cell_type": "code",
   "execution_count": 41,
   "id": "d51fc2a2",
   "metadata": {},
   "outputs": [],
   "source": [
    "min_value=np.sort(df['math score'])[0]"
   ]
  },
  {
   "cell_type": "code",
   "execution_count": 42,
   "id": "a0f17224",
   "metadata": {},
   "outputs": [
    {
     "data": {
      "text/plain": [
       "5.0"
      ]
     },
     "execution_count": 42,
     "metadata": {},
     "output_type": "execute_result"
    }
   ],
   "source": [
    "min_value"
   ]
  },
  {
   "cell_type": "code",
   "execution_count": 44,
   "id": "e1f85561",
   "metadata": {},
   "outputs": [],
   "source": [
    "def max_value(variable):\n",
    "    return np.sort(df[variable])[-1]"
   ]
  },
  {
   "cell_type": "code",
   "execution_count": 45,
   "id": "906f945b",
   "metadata": {},
   "outputs": [
    {
     "data": {
      "text/plain": [
       "90.0"
      ]
     },
     "execution_count": 45,
     "metadata": {},
     "output_type": "execute_result"
    }
   ],
   "source": [
    "max_value('math score')"
   ]
  },
  {
   "cell_type": "code",
   "execution_count": 46,
   "id": "cb8f7e7f",
   "metadata": {},
   "outputs": [],
   "source": [
    "def min_value(variable):\n",
    "    return np.sort(df[variable])[0]"
   ]
  },
  {
   "cell_type": "code",
   "execution_count": 47,
   "id": "616f3ffe",
   "metadata": {},
   "outputs": [
    {
     "data": {
      "text/plain": [
       "5.0"
      ]
     },
     "execution_count": 47,
     "metadata": {},
     "output_type": "execute_result"
    }
   ],
   "source": [
    "min_value('math score')"
   ]
  },
  {
   "cell_type": "code",
   "execution_count": 48,
   "id": "1bae9554",
   "metadata": {},
   "outputs": [],
   "source": [
    "def median_value(variable):\n",
    "    middle_index=math.floor(count_values/2)\n",
    "    return np.sort(df[variable])[middle_index]"
   ]
  },
  {
   "cell_type": "code",
   "execution_count": 49,
   "id": "dcb62aaf",
   "metadata": {},
   "outputs": [
    {
     "data": {
      "text/plain": [
       "52.285714"
      ]
     },
     "execution_count": 49,
     "metadata": {},
     "output_type": "execute_result"
    }
   ],
   "source": [
    "median_value('math score')"
   ]
  },
  {
   "cell_type": "code",
   "execution_count": 55,
   "id": "f50fc790",
   "metadata": {},
   "outputs": [],
   "source": [
    "lst=[]\n",
    "for i in range(count_values):\n",
    "    sigma=(df['math score'][i]-mean)**2\n",
    "    lst.append(sigma)"
   ]
  },
  {
   "cell_type": "code",
   "execution_count": 56,
   "id": "8ab6a7d7",
   "metadata": {},
   "outputs": [
    {
     "data": {
      "text/plain": [
       "[388.6530637278913,\n",
       " 279.3673490612246,\n",
       " 1422.3673517278914,\n",
       " 27.938774839002228,\n",
       " 4.9382714747368075e-14,\n",
       " 350.2244921723358,\n",
       " 1622.9387703945574,\n",
       " 4.9382714747368075e-14,\n",
       " 2235.9387695056685]"
      ]
     },
     "execution_count": 56,
     "metadata": {},
     "output_type": "execute_result"
    }
   ],
   "source": [
    "lst"
   ]
  },
  {
   "cell_type": "code",
   "execution_count": 59,
   "id": "7bd6a51f",
   "metadata": {},
   "outputs": [],
   "source": [
    "sum_attr=0\n",
    "for i in range(len(lst)):\n",
    "    sum_attr=sum_attr+lst[i]\n",
    "std_dev=np.sqrt(sum_attr/count_values)"
   ]
  },
  {
   "cell_type": "code",
   "execution_count": 60,
   "id": "a0f6954d",
   "metadata": {},
   "outputs": [
    {
     "data": {
      "text/plain": [
       "26.515045145117497"
      ]
     },
     "execution_count": 60,
     "metadata": {},
     "output_type": "execute_result"
    }
   ],
   "source": [
    "std_dev"
   ]
  },
  {
   "cell_type": "code",
   "execution_count": 53,
   "id": "dace4ee1",
   "metadata": {},
   "outputs": [
    {
     "data": {
      "text/plain": [
       "28.123452338370043"
      ]
     },
     "execution_count": 53,
     "metadata": {},
     "output_type": "execute_result"
    }
   ],
   "source": [
    "df['math score'].std()"
   ]
  },
  {
   "cell_type": "code",
   "execution_count": null,
   "id": "c25d073b",
   "metadata": {},
   "outputs": [],
   "source": []
  }
 ],
 "metadata": {
  "kernelspec": {
   "display_name": "Python 3 (ipykernel)",
   "language": "python",
   "name": "python3"
  },
  "language_info": {
   "codemirror_mode": {
    "name": "ipython",
    "version": 3
   },
   "file_extension": ".py",
   "mimetype": "text/x-python",
   "name": "python",
   "nbconvert_exporter": "python",
   "pygments_lexer": "ipython3",
   "version": "3.10.6"
  }
 },
 "nbformat": 4,
 "nbformat_minor": 5
}
