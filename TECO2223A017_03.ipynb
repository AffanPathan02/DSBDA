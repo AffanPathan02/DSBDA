{
 "cells": [
  {
   "cell_type": "code",
   "execution_count": 30,
   "id": "7ed3f885",
   "metadata": {},
   "outputs": [],
   "source": [
    "import numpy as np\n",
    "import pandas as pd\n",
    "import math"
   ]
  },
  {
   "cell_type": "code",
   "execution_count": 11,
   "id": "db6de3db",
   "metadata": {},
   "outputs": [],
   "source": [
    "df=pd.read_csv(\"raw_data.csv\")"
   ]
  },
  {
   "cell_type": "code",
   "execution_count": 12,
   "id": "f0642600",
   "metadata": {},
   "outputs": [
    {
     "data": {
      "text/html": [
       "<div>\n",
       "<style scoped>\n",
       "    .dataframe tbody tr th:only-of-type {\n",
       "        vertical-align: middle;\n",
       "    }\n",
       "\n",
       "    .dataframe tbody tr th {\n",
       "        vertical-align: top;\n",
       "    }\n",
       "\n",
       "    .dataframe thead th {\n",
       "        text-align: right;\n",
       "    }\n",
       "</style>\n",
       "<table border=\"1\" class=\"dataframe\">\n",
       "  <thead>\n",
       "    <tr style=\"text-align: right;\">\n",
       "      <th></th>\n",
       "      <th>math score</th>\n",
       "      <th>reading score</th>\n",
       "      <th>writing score</th>\n",
       "      <th>Placement Score</th>\n",
       "      <th>placement offer count</th>\n",
       "    </tr>\n",
       "  </thead>\n",
       "  <tbody>\n",
       "    <tr>\n",
       "      <th>0</th>\n",
       "      <td>72.000000</td>\n",
       "      <td>72.00</td>\n",
       "      <td>74.0</td>\n",
       "      <td>78.000</td>\n",
       "      <td>1</td>\n",
       "    </tr>\n",
       "    <tr>\n",
       "      <th>1</th>\n",
       "      <td>69.000000</td>\n",
       "      <td>90.00</td>\n",
       "      <td>88.0</td>\n",
       "      <td>62.125</td>\n",
       "      <td>2</td>\n",
       "    </tr>\n",
       "    <tr>\n",
       "      <th>2</th>\n",
       "      <td>90.000000</td>\n",
       "      <td>95.00</td>\n",
       "      <td>93.0</td>\n",
       "      <td>74.000</td>\n",
       "      <td>2</td>\n",
       "    </tr>\n",
       "    <tr>\n",
       "      <th>3</th>\n",
       "      <td>47.000000</td>\n",
       "      <td>57.00</td>\n",
       "      <td>77.0</td>\n",
       "      <td>78.000</td>\n",
       "      <td>1</td>\n",
       "    </tr>\n",
       "    <tr>\n",
       "      <th>4</th>\n",
       "      <td>52.285714</td>\n",
       "      <td>78.00</td>\n",
       "      <td>75.0</td>\n",
       "      <td>81.000</td>\n",
       "      <td>3</td>\n",
       "    </tr>\n",
       "    <tr>\n",
       "      <th>5</th>\n",
       "      <td>71.000000</td>\n",
       "      <td>72.25</td>\n",
       "      <td>78.0</td>\n",
       "      <td>70.000</td>\n",
       "      <td>4</td>\n",
       "    </tr>\n",
       "    <tr>\n",
       "      <th>6</th>\n",
       "      <td>12.000000</td>\n",
       "      <td>44.00</td>\n",
       "      <td>52.0</td>\n",
       "      <td>12.000</td>\n",
       "      <td>2</td>\n",
       "    </tr>\n",
       "    <tr>\n",
       "      <th>7</th>\n",
       "      <td>52.285714</td>\n",
       "      <td>65.00</td>\n",
       "      <td>67.0</td>\n",
       "      <td>49.000</td>\n",
       "      <td>1</td>\n",
       "    </tr>\n",
       "    <tr>\n",
       "      <th>8</th>\n",
       "      <td>5.000000</td>\n",
       "      <td>77.00</td>\n",
       "      <td>89.0</td>\n",
       "      <td>55.000</td>\n",
       "      <td>0</td>\n",
       "    </tr>\n",
       "  </tbody>\n",
       "</table>\n",
       "</div>"
      ],
      "text/plain": [
       "   math score  reading score  writing score  Placement Score  \\\n",
       "0   72.000000          72.00           74.0           78.000   \n",
       "1   69.000000          90.00           88.0           62.125   \n",
       "2   90.000000          95.00           93.0           74.000   \n",
       "3   47.000000          57.00           77.0           78.000   \n",
       "4   52.285714          78.00           75.0           81.000   \n",
       "5   71.000000          72.25           78.0           70.000   \n",
       "6   12.000000          44.00           52.0           12.000   \n",
       "7   52.285714          65.00           67.0           49.000   \n",
       "8    5.000000          77.00           89.0           55.000   \n",
       "\n",
       "   placement offer count  \n",
       "0                      1  \n",
       "1                      2  \n",
       "2                      2  \n",
       "3                      1  \n",
       "4                      3  \n",
       "5                      4  \n",
       "6                      2  \n",
       "7                      1  \n",
       "8                      0  "
      ]
     },
     "execution_count": 12,
     "metadata": {},
     "output_type": "execute_result"
    }
   ],
   "source": [
    "df"
   ]
  },
  {
   "cell_type": "code",
   "execution_count": 17,
   "id": "728b4567",
   "metadata": {},
   "outputs": [],
   "source": [
    "sum_values=df['math score'].sum()"
   ]
  },
  {
   "cell_type": "code",
   "execution_count": 20,
   "id": "2cc307c5",
   "metadata": {},
   "outputs": [],
   "source": [
    "count_values=df['math score'].count()"
   ]
  },
  {
   "cell_type": "code",
   "execution_count": 36,
   "id": "aa57661b",
   "metadata": {},
   "outputs": [],
   "source": [
    "mean=sum_values/count_values"
   ]
  },
  {
   "cell_type": "code",
   "execution_count": 37,
   "id": "7e6984aa",
   "metadata": {},
   "outputs": [
    {
     "data": {
      "text/plain": [
       "52.28571422222222"
      ]
     },
     "execution_count": 37,
     "metadata": {},
     "output_type": "execute_result"
    }
   ],
   "source": [
    "mean"
   ]
  },
  {
   "cell_type": "code",
   "execution_count": 25,
   "id": "4a3d1513",
   "metadata": {},
   "outputs": [
    {
     "data": {
      "text/plain": [
       "array([ 5.      , 12.      , 47.      , 52.285714, 52.285714, 69.      ,\n",
       "       71.      , 72.      , 90.      ])"
      ]
     },
     "execution_count": 25,
     "metadata": {},
     "output_type": "execute_result"
    }
   ],
   "source": [
    "np.sort(df['math score'])"
   ]
  },
  {
   "cell_type": "code",
   "execution_count": 31,
   "id": "1a73f374",
   "metadata": {},
   "outputs": [],
   "source": [
    "middle_index=math.floor(count_values/2)"
   ]
  },
  {
   "cell_type": "code",
   "execution_count": 34,
   "id": "ce017380",
   "metadata": {},
   "outputs": [],
   "source": [
    "median=np.sort(df['math score'])[middle_index]"
   ]
  },
  {
   "cell_type": "code",
   "execution_count": 38,
   "id": "d18d1164",
   "metadata": {},
   "outputs": [
    {
     "data": {
      "text/plain": [
       "52.285714"
      ]
     },
     "execution_count": 38,
     "metadata": {},
     "output_type": "execute_result"
    }
   ],
   "source": [
    "median"
   ]
  },
  {
   "cell_type": "code",
   "execution_count": 39,
   "id": "2af1a7ed",
   "metadata": {},
   "outputs": [],
   "source": [
    "max_value=np.sort(df['math score'])[-1]"
   ]
  },
  {
   "cell_type": "code",
   "execution_count": 40,
   "id": "ed6dd95d",
   "metadata": {},
   "outputs": [
    {
     "data": {
      "text/plain": [
       "90.0"
      ]
     },
     "execution_count": 40,
     "metadata": {},
     "output_type": "execute_result"
    }
   ],
   "source": [
    "max_value"
   ]
  },
  {
   "cell_type": "code",
   "execution_count": 41,
   "id": "ce0d8ec4",
   "metadata": {},
   "outputs": [],
   "source": [
    "min_value=np.sort(df['math score'])[0]"
   ]
  },
  {
   "cell_type": "code",
   "execution_count": 42,
   "id": "bc9c0aaa",
   "metadata": {},
   "outputs": [
    {
     "data": {
      "text/plain": [
       "5.0"
      ]
     },
     "execution_count": 42,
     "metadata": {},
     "output_type": "execute_result"
    }
   ],
   "source": [
    "min_value"
   ]
  },
  {
   "cell_type": "code",
   "execution_count": 44,
   "id": "be26a453",
   "metadata": {},
   "outputs": [],
   "source": [
    "def max_value(variable):\n",
    "    return np.sort(df[variable])[-1]"
   ]
  },
  {
   "cell_type": "code",
   "execution_count": 45,
   "id": "14643e53",
   "metadata": {},
   "outputs": [
    {
     "data": {
      "text/plain": [
       "90.0"
      ]
     },
     "execution_count": 45,
     "metadata": {},
     "output_type": "execute_result"
    }
   ],
   "source": [
    "max_value('math score')"
   ]
  },
  {
   "cell_type": "code",
   "execution_count": 46,
   "id": "29ce1c3e",
   "metadata": {},
   "outputs": [],
   "source": [
    "def min_value(variable):\n",
    "    return np.sort(df[variable])[0]"
   ]
  },
  {
   "cell_type": "code",
   "execution_count": 47,
   "id": "6df96b52",
   "metadata": {},
   "outputs": [
    {
     "data": {
      "text/plain": [
       "5.0"
      ]
     },
     "execution_count": 47,
     "metadata": {},
     "output_type": "execute_result"
    }
   ],
   "source": [
    "min_value('math score')"
   ]
  },
  {
   "cell_type": "code",
   "execution_count": 48,
   "id": "ba0be0ae",
   "metadata": {},
   "outputs": [],
   "source": [
    "def median_value(variable):\n",
    "    middle_index=math.floor(count_values/2)\n",
    "    return np.sort(df[variable])[middle_index]"
   ]
  },
  {
   "cell_type": "code",
   "execution_count": 49,
   "id": "5f099bbe",
   "metadata": {},
   "outputs": [
    {
     "data": {
      "text/plain": [
       "52.285714"
      ]
     },
     "execution_count": 49,
     "metadata": {},
     "output_type": "execute_result"
    }
   ],
   "source": [
    "median_value('math score')"
   ]
  },
  {
   "cell_type": "code",
   "execution_count": 79,
   "id": "7ecddf64",
   "metadata": {},
   "outputs": [],
   "source": [
    "# lst=[]\n",
    "# for i in range(coount_values):\n",
    "#     sigma=(df['math score'][i]-mean)**2\n",
    "#     lst.append(sigma)"
   ]
  },
  {
   "cell_type": "code",
   "execution_count": 60,
   "id": "96193bea",
   "metadata": {},
   "outputs": [
    {
     "data": {
      "text/plain": [
       "26.515045145117497"
      ]
     },
     "execution_count": 60,
     "metadata": {},
     "output_type": "execute_result"
    }
   ],
   "source": [
    "std_dev"
   ]
  },
  {
   "cell_type": "code",
   "execution_count": 53,
   "id": "f1326d09",
   "metadata": {},
   "outputs": [
    {
     "data": {
      "text/plain": [
       "28.123452338370043"
      ]
     },
     "execution_count": 53,
     "metadata": {},
     "output_type": "execute_result"
    }
   ],
   "source": [
    "df['math score'].std()"
   ]
  },
  {
   "cell_type": "code",
   "execution_count": 116,
   "id": "ba2aa6cf",
   "metadata": {},
   "outputs": [],
   "source": [
    "def std_dev(variable):\n",
    "    lst=[]\n",
    "    for i in range(count_values):\n",
    "        sigma=(df[variable][i]-mean)**2\n",
    "        lst.append(sigma)\n",
    "    return np.sqrt(sum(lst)/count_values)"
   ]
  },
  {
   "cell_type": "code",
   "execution_count": 117,
   "id": "171fa56c",
   "metadata": {
    "scrolled": true
   },
   "outputs": [
    {
     "data": {
      "text/plain": [
       "26.515045145117497"
      ]
     },
     "execution_count": 117,
     "metadata": {},
     "output_type": "execute_result"
    }
   ],
   "source": [
    "std_dev('math score')"
   ]
  },
  {
   "cell_type": "code",
   "execution_count": 84,
   "id": "9f92f917",
   "metadata": {},
   "outputs": [
    {
     "data": {
      "text/html": [
       "<div>\n",
       "<style scoped>\n",
       "    .dataframe tbody tr th:only-of-type {\n",
       "        vertical-align: middle;\n",
       "    }\n",
       "\n",
       "    .dataframe tbody tr th {\n",
       "        vertical-align: top;\n",
       "    }\n",
       "\n",
       "    .dataframe thead th {\n",
       "        text-align: right;\n",
       "    }\n",
       "</style>\n",
       "<table border=\"1\" class=\"dataframe\">\n",
       "  <thead>\n",
       "    <tr style=\"text-align: right;\">\n",
       "      <th></th>\n",
       "      <th>math score</th>\n",
       "      <th>reading score</th>\n",
       "      <th>writing score</th>\n",
       "      <th>Placement Score</th>\n",
       "      <th>placement offer count</th>\n",
       "    </tr>\n",
       "  </thead>\n",
       "  <tbody>\n",
       "    <tr>\n",
       "      <th>count</th>\n",
       "      <td>9.000000</td>\n",
       "      <td>9.000000</td>\n",
       "      <td>9.0000</td>\n",
       "      <td>9.000000</td>\n",
       "      <td>9.000000</td>\n",
       "    </tr>\n",
       "    <tr>\n",
       "      <th>mean</th>\n",
       "      <td>52.285714</td>\n",
       "      <td>72.250000</td>\n",
       "      <td>77.0000</td>\n",
       "      <td>62.125000</td>\n",
       "      <td>1.777778</td>\n",
       "    </tr>\n",
       "    <tr>\n",
       "      <th>std</th>\n",
       "      <td>28.123452</td>\n",
       "      <td>15.698328</td>\n",
       "      <td>12.5499</td>\n",
       "      <td>21.791268</td>\n",
       "      <td>1.201850</td>\n",
       "    </tr>\n",
       "    <tr>\n",
       "      <th>min</th>\n",
       "      <td>5.000000</td>\n",
       "      <td>44.000000</td>\n",
       "      <td>52.0000</td>\n",
       "      <td>12.000000</td>\n",
       "      <td>0.000000</td>\n",
       "    </tr>\n",
       "    <tr>\n",
       "      <th>25%</th>\n",
       "      <td>47.000000</td>\n",
       "      <td>65.000000</td>\n",
       "      <td>74.0000</td>\n",
       "      <td>55.000000</td>\n",
       "      <td>1.000000</td>\n",
       "    </tr>\n",
       "    <tr>\n",
       "      <th>50%</th>\n",
       "      <td>52.285714</td>\n",
       "      <td>72.250000</td>\n",
       "      <td>77.0000</td>\n",
       "      <td>70.000000</td>\n",
       "      <td>2.000000</td>\n",
       "    </tr>\n",
       "    <tr>\n",
       "      <th>75%</th>\n",
       "      <td>71.000000</td>\n",
       "      <td>78.000000</td>\n",
       "      <td>88.0000</td>\n",
       "      <td>78.000000</td>\n",
       "      <td>2.000000</td>\n",
       "    </tr>\n",
       "    <tr>\n",
       "      <th>max</th>\n",
       "      <td>90.000000</td>\n",
       "      <td>95.000000</td>\n",
       "      <td>93.0000</td>\n",
       "      <td>81.000000</td>\n",
       "      <td>4.000000</td>\n",
       "    </tr>\n",
       "  </tbody>\n",
       "</table>\n",
       "</div>"
      ],
      "text/plain": [
       "       math score  reading score  writing score  Placement Score  \\\n",
       "count    9.000000       9.000000         9.0000         9.000000   \n",
       "mean    52.285714      72.250000        77.0000        62.125000   \n",
       "std     28.123452      15.698328        12.5499        21.791268   \n",
       "min      5.000000      44.000000        52.0000        12.000000   \n",
       "25%     47.000000      65.000000        74.0000        55.000000   \n",
       "50%     52.285714      72.250000        77.0000        70.000000   \n",
       "75%     71.000000      78.000000        88.0000        78.000000   \n",
       "max     90.000000      95.000000        93.0000        81.000000   \n",
       "\n",
       "       placement offer count  \n",
       "count               9.000000  \n",
       "mean                1.777778  \n",
       "std                 1.201850  \n",
       "min                 0.000000  \n",
       "25%                 1.000000  \n",
       "50%                 2.000000  \n",
       "75%                 2.000000  \n",
       "max                 4.000000  "
      ]
     },
     "execution_count": 84,
     "metadata": {},
     "output_type": "execute_result"
    }
   ],
   "source": [
    "df.describe()"
   ]
  },
  {
   "cell_type": "code",
   "execution_count": 124,
   "id": "214342af",
   "metadata": {},
   "outputs": [],
   "source": [
    "def variance(data,ddof=0):\n",
    "    n = len(data)\n",
    "    mean = sum(data) / n\n",
    "    return sum((x - mean) ** 2 for x in data) / (n - ddof)\n",
    "\n",
    "def stdev(data):\n",
    "    var = variance(data)\n",
    "    std_dev = math.sqrt(var)\n",
    "    return std_dev"
   ]
  },
  {
   "cell_type": "code",
   "execution_count": 125,
   "id": "835dad79",
   "metadata": {},
   "outputs": [
    {
     "data": {
      "text/plain": [
       "703.047619047619"
      ]
     },
     "execution_count": 125,
     "metadata": {},
     "output_type": "execute_result"
    }
   ],
   "source": [
    "variance(df['math score'])"
   ]
  },
  {
   "cell_type": "code",
   "execution_count": 126,
   "id": "70abe6fe",
   "metadata": {},
   "outputs": [
    {
     "data": {
      "text/plain": [
       "26.515045145117497"
      ]
     },
     "execution_count": 126,
     "metadata": {},
     "output_type": "execute_result"
    }
   ],
   "source": [
    "stdev(df['math score'])"
   ]
  },
  {
   "cell_type": "code",
   "execution_count": 128,
   "id": "4b245647",
   "metadata": {},
   "outputs": [
    {
     "data": {
      "text/plain": [
       "14.800525516195549"
      ]
     },
     "execution_count": 128,
     "metadata": {},
     "output_type": "execute_result"
    }
   ],
   "source": [
    "stdev(df['reading score'])"
   ]
  },
  {
   "cell_type": "code",
   "execution_count": 129,
   "id": "40685ab1",
   "metadata": {},
   "outputs": [
    {
     "data": {
      "text/plain": [
       "1.1331154474650633"
      ]
     },
     "execution_count": 129,
     "metadata": {},
     "output_type": "execute_result"
    }
   ],
   "source": [
    "stdev(df['placement offer count'])"
   ]
  },
  {
   "cell_type": "code",
   "execution_count": null,
   "id": "f1c00c5a",
   "metadata": {},
   "outputs": [],
   "source": []
  }
 ],
 "metadata": {
  "kernelspec": {
   "display_name": "Python 3 (ipykernel)",
   "language": "python",
   "name": "python3"
  },
  "language_info": {
   "codemirror_mode": {
    "name": "ipython",
    "version": 3
   },
   "file_extension": ".py",
   "mimetype": "text/x-python",
   "name": "python",
   "nbconvert_exporter": "python",
   "pygments_lexer": "ipython3",
   "version": "3.10.6"
  }
 },
 "nbformat": 4,
 "nbformat_minor": 5
}
